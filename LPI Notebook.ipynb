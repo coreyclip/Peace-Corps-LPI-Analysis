{
 "cells": [
  {
   "cell_type": "markdown",
   "metadata": {},
   "source": [
    "Welcome to the LPI Analysis notebook. This notebook has been created by Corey Kiyoshi Clippinger of Kos-2. In this notebook we will go through a basic analysis of the Language Proficiency Interview data collected by Peace Corps Kosovo's TEFL volunteers. For a brief tutorial of how Juptyer notebook work please see https://www.datacamp.com/community/tutorials/tutorial-jupyter-notebook#gs.sKIKXig"
   ]
  },
  {
   "cell_type": "markdown",
   "metadata": {},
   "source": [
    "To start lets load our data into the notebook. Please note that for this all to work, we need to have our CSV file in a tabular format meaning that each row contains one student result and each column records their information ex. name, gender, age, municipality, LPI score, etc. \n",
    "\n",
    "The kernel of code will provide an example. click on the next box (the kernel) and press the play button to run the code. "
   ]
  },
  {
   "cell_type": "code",
   "execution_count": 1,
   "metadata": {
    "collapsed": false
   },
   "outputs": [
    {
     "name": "stdout",
     "output_type": "stream",
     "text": [
      "     name  gender age        rating municipality\n",
      "0  George    Male  14        Novice     Pristina\n",
      "1    Mary  Female  14  Intermediate       Gjilan\n",
      "2   Jimmy    Male  15        Novice     Kamenica\n",
      "3    Judy  Female  13      Advanced         Peja\n"
     ]
    }
   ],
   "source": [
    "import pandas as pd\n",
    "import numpy as np\n",
    "\n",
    "example = pd.DataFrame(data=np.array([['George', 'Male', '14','Novice', 'Pristina'], \n",
    "                                    ['Mary', 'Female', '14', 'Intermediate', 'Gjilan'],\n",
    "                                    ['Jimmy','Male', '15', 'Novice', 'Kamenica'],\n",
    "                                    ['Judy', 'Female', '13', 'Advanced', 'Peja']],dtype=str), \n",
    "                                         columns=['name', 'gender', 'age', 'rating', 'municipality'])\n",
    "                                                                                    \n",
    "print example"
   ]
  },
  {
   "cell_type": "markdown",
   "metadata": {},
   "source": [
    "Alright so lets load up our actual data. First input the filepath for the formated and complete CSV file after filepath = ' ' \n",
    "\n",
    "You should be inputing something like:\n",
    "\n",
    "filepath = '/Users/Jimmy/Desktop/LPI results.csv' \n",
    "\n",
    "**Make sure you type your filepath in like I did above, computers are very unsympatheic listeners so leaving out the:\n",
    "\" ' / .csv\" bits will result in a scary error popup \n",
    "\n",
    "If using a CSV file make sure the filepath ends with .csv if it's excel .xls, when in doubt look at the file name on your computer to be certain\n",
    "\n",
    "you'll see down bellow a bit of code that looks like this:\n",
    "\n",
    "lpidf = pd.read_csv(filepath, index_col=0)\n",
    "\n",
    "If you are loading up a CSV file **leave this alone**\n",
    "\n",
    "If you are loading up a xls file or xlsx **use the bellow code instead \n",
    "\n",
    "lpidf = pd.read_excel(filepath, sheetname=0, index_col=0)\n",
    "\n",
    "Just copy which ever code you are supposed to use and then paste it over the code you need to replace"
   ]
  },
  {
   "cell_type": "code",
   "execution_count": null,
   "metadata": {
    "collapsed": false
   },
   "outputs": [],
   "source": [
    "filepath = '../LPI Project/Data Sheets/Master LPI sheet.csv'\n"
   ]
  },
  {
   "cell_type": "code",
   "execution_count": null,
   "metadata": {
    "collapsed": false
   },
   "outputs": [],
   "source": [
    "import pandas as pd\n",
    "import numpy as np \n",
    "\n",
    "try:\n",
    "    lpidf = pd.read_csv(filepath, index_col=0)\n",
    "    print \"All good... hopefully\"\n",
    "except IOError:\n",
    "    print \"double check file path \\n\\nand no you did not load the data correctly\""
   ]
  },
  {
   "cell_type": "markdown",
   "metadata": {},
   "source": [
    "Lets take a look at our data to make sure that everything is what we expect. \n",
    "\n",
    "The next line of code will give us a basic read out of the columns we have in the data and the number of observations in each. While not critical it's probably important that our number of entries equals the number of *Names*, *Ages*, and *Ratings*, for example. the other variables are likely not going to equal the total number of observations as the methodologies of the LPI data collection has changed overtime so in some samples *Internet Access* was collected and in others it wasn't \n",
    "\n",
    "For those with some exposure to computer programming you'll notice that the data types of each variable is also provided"
   ]
  },
  {
   "cell_type": "code",
   "execution_count": null,
   "metadata": {
    "collapsed": false
   },
   "outputs": [],
   "source": [
    "lpidf.info()"
   ]
  },
  {
   "cell_type": "markdown",
   "metadata": {},
   "source": [
    "Ok lets look at some summary statistics of our data, run the next line of code to get summary statistics on the ages of the students in our sample"
   ]
  },
  {
   "cell_type": "markdown",
   "metadata": {},
   "source": [
    "## Student Ages"
   ]
  },
  {
   "cell_type": "code",
   "execution_count": null,
   "metadata": {
    "collapsed": false
   },
   "outputs": [],
   "source": [
    "print \"***Summary stats*** \\n \\n\", lpidf['Age'].describe(), \"\\n\"\n",
    "print \"Value Counts\\nage, ratio of sample \\n \\n\", \n",
    "print lpidf['Age'].value_counts(sort=False,normalize=True, ascending=False)"
   ]
  },
  {
   "cell_type": "markdown",
   "metadata": {},
   "source": [
    "Would you kindly run the next cell to get a visualizations of our students' ages"
   ]
  },
  {
   "cell_type": "code",
   "execution_count": null,
   "metadata": {
    "collapsed": false
   },
   "outputs": [],
   "source": [
    "%matplotlib inline\n",
    "import seaborn as sns\n",
    "import ggplot\n",
    "from ggplot import aes\n",
    "import matplotlib as mpl\n",
    "import matplotlib.mlab as mlab\n",
    "import matplotlib.pyplot as plt\n",
    "sns.set(color_codes=True)\n",
    "sns.set_style(\"ticks\")\n",
    "sns.set_context(\"talk\")\n",
    "\n",
    "sns.distplot(lpidf['Age'], kde=True, rug=True, bins=[9,10, 11, 12, 13, 14, 15, 16, 17, 18, 19 ,20])\n",
    "plt.title(\"Student Ages\")\n",
    "sns.despine(offset=10, trim=False)\n",
    "\n",
    "\n"
   ]
  },
  {
   "cell_type": "markdown",
   "metadata": {},
   "source": [
    "The next cell will produce violin plots (a variation of the boxplot) broken down by gender\n",
    "\n",
    "Would you kindly run the cell\n",
    "\n",
    "** A few notes on the next vizualization **\n",
    "* White dot represents the average \n",
    "* The larger the blob the more students are of a particular age \n",
    "* The thick part of the line is the 25th to 75th percentile aka the middle 50% of the data *"
   ]
  },
  {
   "cell_type": "code",
   "execution_count": null,
   "metadata": {
    "collapsed": false
   },
   "outputs": [],
   "source": [
    "sns.set(style=\"ticks\")\n",
    "sns.set_context(\"talk\")\n",
    "sns.violinplot(x=\"Gender\", y=\"Age\", data=lpidf,  palette=\"PRGn\")\n",
    "sns.despine(offset=10, trim=True)\n",
    "plt.title('Distribution of age by gender')\n"
   ]
  },
  {
   "cell_type": "markdown",
   "metadata": {},
   "source": [
    "# Gender \n",
    "\n",
    "Lets start out by getting an idea of the distribution of \n",
    "how many boys and girls we have in our sample run the next cell to \n",
    "get a breakdown of the proportion of boys and girls"
   ]
  },
  {
   "cell_type": "code",
   "execution_count": null,
   "metadata": {
    "collapsed": false
   },
   "outputs": [],
   "source": [
    "print \"***Ratio of Male and Female*** \\n \\n\" , lpidf['Gender'].value_counts(normalize=True)"
   ]
  },
  {
   "cell_type": "markdown",
   "metadata": {},
   "source": [
    "Lets do a histogram to represent this information and break it down by municipality"
   ]
  },
  {
   "cell_type": "code",
   "execution_count": null,
   "metadata": {
    "collapsed": false
   },
   "outputs": [],
   "source": [
    "sns.set_context(\"talk\")\n",
    "g = sns.factorplot('municipality', hue='Gender',aspect=4, kind=\"count\", data=lpidf, palette=\"Set3\")\n",
    "g.set_xticklabels(rotation=45)\n",
    "plt.title('Number of male and female students surveyed in each municipality')"
   ]
  },
  {
   "cell_type": "markdown",
   "metadata": {
    "collapsed": true
   },
   "source": [
    "## LPI Rating ##\n",
    "\n",
    "Alright lets move on to looking at our LPI ratings would you kindly run the bellow cell to \n",
    "get a few cross tabulations of LPI rating by age, gender, internet access, etc. \n",
    "\n",
    "Just for reference a cross tabulation is very similar to an excel pivot table. In the table bellow student ages are shown on the left hand column and LPI ratings in the top row. Each row represents a specific age and the number where that age matches a specific rating, the number represents the number of students matching the criteria in the row and column. In the example bellow there is one Advanced student at age 13, one Intermediate student at age 14, And a total of 2 Novice students for instance. "
   ]
  },
  {
   "cell_type": "code",
   "execution_count": null,
   "metadata": {
    "collapsed": false
   },
   "outputs": [],
   "source": [
    "\n",
    "print 'Example \\n\\n', example\n",
    "\n",
    "print '\\n\\n', pd.crosstab(example['age'], example['rating'], margins=True)"
   ]
  },
  {
   "cell_type": "code",
   "execution_count": null,
   "metadata": {
    "collapsed": false
   },
   "outputs": [],
   "source": [
    "print \"***crosstab of LPI rating and age*** \\n\\n\", \n",
    "print pd.crosstab(lpidf['Age'], lpidf['Rating'], margins=True)\n",
    "print \"\\n\\n ***crosstab of LPI rating and gender***\\n\\n\", \n",
    "print pd.crosstab(lpidf['Gender'], lpidf['Rating'], margins=True)\n",
    "print \"\\n\\n ***crosstab of LPI rating and internet acces***\\n\\n\"\n",
    "print pd.crosstab(lpidf['Internet Access'], lpidf['Rating'], margins=True)\n",
    "print \"\\n\\n ***crosstab of LPI rating and Private courses***\\n\\n\" \n",
    "print pd.crosstab(lpidf['Taking Private Courses'], lpidf['Rating'], margins=True)\n",
    "print \"\\n\\n***crosstab of LPI rating and school type*** \\n\\n\"\n",
    "print pd.crosstab(lpidf['school_type'], lpidf['Rating'], margins=True)\n",
    "print \"\\n\\n***crosstab of LPI rating and English speaking family member*** \\n\\n\", \n",
    "print pd.crosstab(lpidf['English Speaking family member'], lpidf['Rating'], margins=True)"
   ]
  },
  {
   "cell_type": "markdown",
   "metadata": {},
   "source": [
    "Helpful? Maybe or maybe not, typically our brains have an easier time processing numerical information visually like in the graphs above but sometimes simple tables like the ones above can show us some interesting points. Also please note that you may notice that certain columns may not add up to the total number of observations in the dataset. This is simply because in many cases we have missing data from certain observations and the program is just ignoring these datapoints. \n",
    "\n",
    "if you would like to make your own crosstabs you can set the *rows* and *columns* variables bellow to different variables from the dataset and run the cell to produce your own crosstabs make sure you type within the \" \" **like this:** \"Age\" \n"
   ]
  },
  {
   "cell_type": "code",
   "execution_count": null,
   "metadata": {
    "collapsed": false
   },
   "outputs": [],
   "source": [
    "columns = \"Grade\"\n",
    "rows = \"Rating\"\n",
    "\n",
    "print pd.crosstab(lpidf[rows], lpidf[columns], margins=True)"
   ]
  },
  {
   "cell_type": "markdown",
   "metadata": {},
   "source": [
    "Ok lets move on to visualizing the LPI Ratings, would you kindly run the next cell"
   ]
  },
  {
   "cell_type": "code",
   "execution_count": null,
   "metadata": {
    "collapsed": false
   },
   "outputs": [],
   "source": [
    "sns.set_context(\"talk\")\n",
    "sns.countplot(x='Rating', hue='Gender',\n",
    "              order=['N/a', 'Novice', 'Intermediate', 'Advanced'], data=lpidf, palette=\"Set3\")\n",
    "sns.despine(offset=2, trim=False)\n",
    "plt.title('LPI Rating by Gender')\n"
   ]
  },
  {
   "cell_type": "code",
   "execution_count": null,
   "metadata": {
    "collapsed": false
   },
   "outputs": [],
   "source": [
    "sns.countplot(x='Rating', hue='Internet Access',\n",
    "              order=['N/a', 'Novice', 'Intermediate', 'Advanced'], data=lpidf, palette=\"Set2\")\n",
    "sns.despine(offset=2, trim=False)\n",
    "plt.title('LPI Rating by Internet Access')\n"
   ]
  },
  {
   "cell_type": "code",
   "execution_count": null,
   "metadata": {
    "collapsed": false
   },
   "outputs": [],
   "source": [
    "sns.countplot(x='Rating', hue='Taking Private Courses', \n",
    "              order=['N/a', 'Novice', 'Intermediate', 'Advanced'], data=lpidf, palette=\"Set3\")\n",
    "sns.despine(offset=2, trim=False)\n",
    "plt.title('LPI Rating and Enrollment in Private Engligh courses')\n"
   ]
  },
  {
   "cell_type": "code",
   "execution_count": null,
   "metadata": {
    "collapsed": false
   },
   "outputs": [],
   "source": [
    "sns.countplot(x='Rating', hue='school_type', \n",
    "              order=['N/a', 'Novice', 'Intermediate', 'Advanced'], data=lpidf, palette=\"GnBu_d\")\n",
    "sns.despine(offset=2, trim=False)\n",
    "plt.title('LPI Rating and Type of School attended')"
   ]
  },
  {
   "cell_type": "code",
   "execution_count": null,
   "metadata": {
    "collapsed": false
   },
   "outputs": [],
   "source": [
    "sns.countplot(x='Rating', hue='English Speaking family member',\n",
    "              order=['N/a', 'Novice', 'Intermediate', 'Advanced'], data=lpidf, palette=\"BrBG\")\n",
    "sns.despine(offset=2, trim=False)\n",
    "plt.title('LPI Rating and English Speaking Family Members')\n"
   ]
  },
  {
   "cell_type": "markdown",
   "metadata": {},
   "source": [
    "Ok so now lets go ahead and start digging into what factors could be influencing student scores on the LPI\n",
    "\n",
    "Would you kindly run the next cell, you'll see graph where the large dots represent the **average** age of a student\n",
    "with a particular LPI score. The lines extending from the dot represent the **range** of student ages for a particular LPI score.  "
   ]
  },
  {
   "cell_type": "code",
   "execution_count": null,
   "metadata": {
    "collapsed": false
   },
   "outputs": [],
   "source": [
    "from numpy import median\n",
    "sns.pointplot(x='Rating', y='Age', dodge=True, hue='Gender',\n",
    "              join=False, data=lpidf, pallette='BrBG',\n",
    "             order=['N/a', 'Novice', 'Intermediate', 'Advanced']) \n",
    "sns.despine(offset=2, trim=True)\n",
    "plt.title('LPI by age and Gender')"
   ]
  },
  {
   "cell_type": "markdown",
   "metadata": {},
   "source": [
    "This next few graphs will show a series of linear models between LPI score and the various factors we've collected, though in order to make the mathematical bits and pieces work, we have to convert our LPI rankings and yes/no questions to numerical rankings. see the explanations bellow: \n",
    "\n",
    "* 1 - N/a\n",
    "* 2 - Novice\n",
    "* 3 - Intermediate\n",
    "* 4 - Advanced\n",
    "For the LPI rankings\n",
    "*because of the way LPI rankings work, one cannot actually accurately model mathematically the progression of LPI scores as 0 being N/a and 1 - Novice, 2 - Intermediate, etc. Because as many of you should know the threshold for a student moving from N/a to Novice is much lower than a Intermediate student moving to Advanced, so instead I've decided that it is a safer bet to simply represent the LPI scores as dummy variables. The next cell will unravel the 'Rating' column and create a column for every LPI rating for each student record. The column with the Rating that the student has will have a 1 in it and the others will have 0. \n",
    "\n",
    "For the yes/no questions\n",
    "* 1 - yes\n",
    "* 0 - no\n"
   ]
  },
  {
   "cell_type": "code",
   "execution_count": null,
   "metadata": {
    "collapsed": false
   },
   "outputs": [],
   "source": [
    "lpidf = lpidf.replace(to_replace = 'yes', value=1) \n",
    "lpidf = lpidf.replace(to_replace = 'no', value= 0) \n",
    "\n",
    "lpidf = lpidf.replace(to_replace = 'Yes', value=1) \n",
    "lpidf = lpidf.replace(to_replace = 'No', value= 0) \n",
    "\n",
    "\n",
    "\n",
    "lpidf.info()"
   ]
  },
  {
   "cell_type": "code",
   "execution_count": null,
   "metadata": {
    "collapsed": true
   },
   "outputs": [],
   "source": []
  }
 ],
 "metadata": {
  "kernelspec": {
   "display_name": "Python 2",
   "language": "python",
   "name": "python2"
  },
  "language_info": {
   "codemirror_mode": {
    "name": "ipython",
    "version": 2
   },
   "file_extension": ".py",
   "mimetype": "text/x-python",
   "name": "python",
   "nbconvert_exporter": "python",
   "pygments_lexer": "ipython2",
   "version": "2.7.11"
  }
 },
 "nbformat": 4,
 "nbformat_minor": 0
}
